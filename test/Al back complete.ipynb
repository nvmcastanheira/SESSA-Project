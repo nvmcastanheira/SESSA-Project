{
 "cells": [
  {
   "cell_type": "code",
   "execution_count": 25,
   "id": "78a4b316-5aad-4397-a8bd-7858e7da7ad7",
   "metadata": {},
   "outputs": [],
   "source": [
    "import torch\n",
    "import torch.nn as nn\n",
    "from torch.optim import SGD\n",
    "from numpy import *\n",
    "import matplotlib.pyplot as plt\n",
    "import math\n",
    "from tqdm import tqdm\n",
    "plt.style.use(['science','notebook','grid'])\n",
    "params = {'mathtext.default': 'regular' }          \n",
    "plt.rcParams.update(params)"
   ]
  },
  {
   "cell_type": "code",
   "execution_count": 27,
   "id": "8ca181d1-add8-4005-a753-7e8c42bc688e",
   "metadata": {},
   "outputs": [],
   "source": [
    "vals = load(r\"C:\\Users\\Nunocastanheira\\Desktop\\boooks\\research\\Gelb!\\Code\\test\\MasterC.npy\")"
   ]
  },
  {
   "cell_type": "code",
   "execution_count": 28,
   "id": "fbc0fb68-60db-42ab-89fe-0e96ebab7f73",
   "metadata": {},
   "outputs": [
    {
     "name": "stdout",
     "output_type": "stream",
     "text": [
      "torch.Size([2048])\n",
      "torch.Size([150, 2048])\n",
      "torch.Size([150, 1])\n",
      "tensor([ 500.0000,  500.4880,  500.9770,  ..., 1498.5400, 1499.0200,\n",
      "        1499.5100])\n",
      "tensor([[2.9532, 2.9536, 2.9540,  ..., 0.0036, 0.0036, 0.0036],\n",
      "        [2.9545, 2.9549, 2.9553,  ..., 0.0037, 0.0037, 0.0037],\n",
      "        [2.9357, 2.9361, 2.9365,  ..., 0.0038, 0.0038, 0.0038],\n",
      "        ...,\n",
      "        [2.6783, 2.6785, 2.6788,  ..., 0.0050, 0.0049, 0.0049],\n",
      "        [2.6670, 2.6672, 2.6675,  ..., 0.0050, 0.0049, 0.0049],\n",
      "        [2.6736, 2.6738, 2.6741,  ..., 0.0050, 0.0049, 0.0049]])\n"
     ]
    }
   ],
   "source": [
    "energy = torch.tensor(vals[0,0,:,0],dtype=torch.float)\n",
    "thickness = torch.tensor(array([range(1,151)]).transpose(),dtype=torch.float)\n",
    "counts = torch.tensor(vals[0,:,:,1],dtype=torch.float)\n",
    "test = torch.tensor(vals[0,:,:,1],dtype=torch.float)*10**7\n",
    "print(shape(energy))\n",
    "print(shape(test))\n",
    "print(shape(thickness))\n",
    "print(energy)\n",
    "print(test)"
   ]
  },
  {
   "cell_type": "code",
   "execution_count": 29,
   "id": "da8abb19-c6ca-4f8b-940a-b55f25043bd9",
   "metadata": {
    "tags": []
   },
   "outputs": [
    {
     "name": "stderr",
     "output_type": "stream",
     "text": [
      "  1%|▏         | 133/10000 [00:16<20:22,  8.07it/s]\n"
     ]
    },
    {
     "ename": "KeyboardInterrupt",
     "evalue": "",
     "output_type": "error",
     "traceback": [
      "\u001b[1;31m---------------------------------------------------------------------------\u001b[0m",
      "\u001b[1;31mKeyboardInterrupt\u001b[0m                         Traceback (most recent call last)",
      "\u001b[1;32m~\\AppData\\Local\\Temp\\ipykernel_15800\\893428405.py\u001b[0m in \u001b[0;36m<module>\u001b[1;34m\u001b[0m\n\u001b[0;32m     35\u001b[0m \u001b[1;33m\u001b[0m\u001b[0m\n\u001b[0;32m     36\u001b[0m \u001b[1;31m# Train model\u001b[0m\u001b[1;33m\u001b[0m\u001b[1;33m\u001b[0m\u001b[1;33m\u001b[0m\u001b[0m\n\u001b[1;32m---> 37\u001b[1;33m \u001b[0mf\u001b[0m\u001b[1;33m,\u001b[0m \u001b[0mlosses\u001b[0m \u001b[1;33m=\u001b[0m \u001b[0mtrain_model\u001b[0m\u001b[1;33m(\u001b[0m\u001b[0mx\u001b[0m\u001b[1;33m,\u001b[0m\u001b[0my\u001b[0m\u001b[1;33m,\u001b[0m\u001b[0mf\u001b[0m\u001b[1;33m,\u001b[0m \u001b[0mn_epochs\u001b[0m\u001b[1;33m=\u001b[0m\u001b[1;36m10000\u001b[0m\u001b[1;33m)\u001b[0m\u001b[1;33m\u001b[0m\u001b[1;33m\u001b[0m\u001b[0m\n\u001b[0m",
      "\u001b[1;32m~\\AppData\\Local\\Temp\\ipykernel_15800\\893428405.py\u001b[0m in \u001b[0;36mtrain_model\u001b[1;34m(x, y, f, n_epochs)\u001b[0m\n\u001b[0;32m      6\u001b[0m     \u001b[0mlosses\u001b[0m \u001b[1;33m=\u001b[0m \u001b[1;33m[\u001b[0m\u001b[1;33m]\u001b[0m\u001b[1;33m\u001b[0m\u001b[1;33m\u001b[0m\u001b[0m\n\u001b[0;32m      7\u001b[0m     \u001b[1;32mfor\u001b[0m \u001b[0m_\u001b[0m \u001b[1;32min\u001b[0m \u001b[0mtqdm\u001b[0m\u001b[1;33m(\u001b[0m\u001b[0mrange\u001b[0m\u001b[1;33m(\u001b[0m\u001b[0mn_epochs\u001b[0m\u001b[1;33m)\u001b[0m\u001b[1;33m)\u001b[0m\u001b[1;33m:\u001b[0m\u001b[1;33m\u001b[0m\u001b[1;33m\u001b[0m\u001b[0m\n\u001b[1;32m----> 8\u001b[1;33m         \u001b[0mopt\u001b[0m\u001b[1;33m.\u001b[0m\u001b[0mzero_grad\u001b[0m\u001b[1;33m(\u001b[0m\u001b[1;33m)\u001b[0m\u001b[1;33m\u001b[0m\u001b[1;33m\u001b[0m\u001b[0m\n\u001b[0m\u001b[0;32m      9\u001b[0m         \u001b[0mloss_value\u001b[0m \u001b[1;33m=\u001b[0m \u001b[0mL\u001b[0m\u001b[1;33m(\u001b[0m\u001b[0mf\u001b[0m\u001b[1;33m(\u001b[0m\u001b[0mx\u001b[0m\u001b[1;33m)\u001b[0m\u001b[1;33m,\u001b[0m \u001b[0my\u001b[0m\u001b[1;33m)\u001b[0m\u001b[1;33m\u001b[0m\u001b[1;33m\u001b[0m\u001b[0m\n\u001b[0;32m     10\u001b[0m         \u001b[0mloss_value\u001b[0m\u001b[1;33m.\u001b[0m\u001b[0mbackward\u001b[0m\u001b[1;33m(\u001b[0m\u001b[1;33m)\u001b[0m\u001b[1;33m\u001b[0m\u001b[1;33m\u001b[0m\u001b[0m\n",
      "\u001b[1;32m~\\anaconda3\\lib\\site-packages\\torch\\optim\\optimizer.py\u001b[0m in \u001b[0;36mzero_grad\u001b[1;34m(self, set_to_none)\u001b[0m\n\u001b[0;32m    215\u001b[0m                             \u001b[1;32melse\u001b[0m\u001b[1;33m:\u001b[0m\u001b[1;33m\u001b[0m\u001b[1;33m\u001b[0m\u001b[0m\n\u001b[0;32m    216\u001b[0m                                 \u001b[0mp\u001b[0m\u001b[1;33m.\u001b[0m\u001b[0mgrad\u001b[0m\u001b[1;33m.\u001b[0m\u001b[0mrequires_grad_\u001b[0m\u001b[1;33m(\u001b[0m\u001b[1;32mFalse\u001b[0m\u001b[1;33m)\u001b[0m\u001b[1;33m\u001b[0m\u001b[1;33m\u001b[0m\u001b[0m\n\u001b[1;32m--> 217\u001b[1;33m                             \u001b[0mp\u001b[0m\u001b[1;33m.\u001b[0m\u001b[0mgrad\u001b[0m\u001b[1;33m.\u001b[0m\u001b[0mzero_\u001b[0m\u001b[1;33m(\u001b[0m\u001b[1;33m)\u001b[0m\u001b[1;33m\u001b[0m\u001b[1;33m\u001b[0m\u001b[0m\n\u001b[0m\u001b[0;32m    218\u001b[0m \u001b[1;33m\u001b[0m\u001b[0m\n\u001b[0;32m    219\u001b[0m     \u001b[1;32mdef\u001b[0m \u001b[0mstep\u001b[0m\u001b[1;33m(\u001b[0m\u001b[0mself\u001b[0m\u001b[1;33m,\u001b[0m \u001b[0mclosure\u001b[0m\u001b[1;33m)\u001b[0m\u001b[1;33m:\u001b[0m\u001b[1;33m\u001b[0m\u001b[1;33m\u001b[0m\u001b[0m\n",
      "\u001b[1;31mKeyboardInterrupt\u001b[0m: "
     ]
    }
   ],
   "source": [
    "def train_model(x,y,f, n_epochs=500):\n",
    "    opt = SGD(f.parameters(), lr=10**-4)\n",
    "    L = nn.MSELoss()\n",
    "\n",
    "    # Train model\n",
    "    losses = []\n",
    "    for _ in tqdm(range(n_epochs)):\n",
    "        opt.zero_grad() \n",
    "        loss_value = L(f(x), y)\n",
    "        loss_value.backward() \n",
    "        opt.step() \n",
    "        losses.append(loss_value.item())\n",
    "    return f, losses\n",
    "\n",
    "N = 2**11\n",
    "class MyNeuralNet(nn.Module):\n",
    "    def __init__(self):\n",
    "        super().__init__()\n",
    "        self.Matrix1 = nn.Linear(1,N)\n",
    "        self.Matrix2 = nn.Linear(N,N)\n",
    "        self.Matrix3 = nn.Linear(N,N)\n",
    "        self.Matrix4 = nn.Linear(N,2048)\n",
    "        self.R = nn.ReLU()\n",
    "        self.E = nn.Tanh()\n",
    "    def forward(self,x):\n",
    "        x = self.R(self.Matrix1(x))\n",
    "        x = self.R(self.Matrix2(x))\n",
    "        x = self.E(self.Matrix3(x))\n",
    "        x = self.Matrix4(x)\n",
    "        return x.squeeze()\n",
    "\n",
    "x = thickness\n",
    "y = test\n",
    "f = MyNeuralNet()\n",
    "\n",
    "# Train model\n",
    "f, losses = train_model(x,y,f, n_epochs=10000)"
   ]
  },
  {
   "cell_type": "code",
   "execution_count": null,
   "id": "8dc30c34-2301-4dde-840d-a3650db115a1",
   "metadata": {},
   "outputs": [],
   "source": [
    "shape(f(x))"
   ]
  },
  {
   "cell_type": "code",
   "execution_count": null,
   "id": "e4461fae-8b5e-4d1e-aa2b-d6c3ef738252",
   "metadata": {},
   "outputs": [],
   "source": [
    "f(x)"
   ]
  },
  {
   "cell_type": "code",
   "execution_count": null,
   "id": "b05a4330-c5d9-414d-8714-8657b59e3342",
   "metadata": {},
   "outputs": [],
   "source": [
    "print(x[1])\n",
    "print(y[1])"
   ]
  },
  {
   "cell_type": "code",
   "execution_count": null,
   "id": "2b9d5efc-9f5e-4251-9906-08c5088af99e",
   "metadata": {},
   "outputs": [],
   "source": [
    "plt.plot(losses)\n",
    "plt.xlabel(\"epoch\")\n",
    "plt.ylabel(\"Loss\")\n",
    "plt.show()"
   ]
  },
  {
   "cell_type": "code",
   "execution_count": null,
   "id": "980fe67f-9eee-42e0-8fe8-26f4ae223ff3",
   "metadata": {},
   "outputs": [],
   "source": [
    "plt.plot(energy,f(x)[3].detach().numpy())"
   ]
  },
  {
   "cell_type": "code",
   "execution_count": null,
   "id": "a130270e-7b82-4985-81f2-c1013f5be3bc",
   "metadata": {},
   "outputs": [],
   "source": [
    "f"
   ]
  },
  {
   "cell_type": "code",
   "execution_count": null,
   "id": "3cfd956d-c094-4c33-b453-c4347ea74899",
   "metadata": {},
   "outputs": [],
   "source": [
    "torch.save(f, 'back Al complete.pt')"
   ]
  },
  {
   "cell_type": "code",
   "execution_count": null,
   "id": "9d31a902-ba52-4dd1-b97e-60126f763d3e",
   "metadata": {},
   "outputs": [],
   "source": [
    "#r = torch.load('tensor.pt')"
   ]
  },
  {
   "cell_type": "code",
   "execution_count": null,
   "id": "b97fd893-77aa-4cfb-affe-dcc782910b72",
   "metadata": {},
   "outputs": [],
   "source": [
    "#r(x)"
   ]
  },
  {
   "cell_type": "code",
   "execution_count": null,
   "id": "0c5ac6ba-99ff-453f-942f-7a1ab38e8cb9",
   "metadata": {},
   "outputs": [],
   "source": [
    "#plt.plot(r(x)[3].detach().numpy())"
   ]
  },
  {
   "cell_type": "code",
   "execution_count": null,
   "id": "f0ec7732-bdd0-4f13-b152-400136481ac3",
   "metadata": {},
   "outputs": [],
   "source": [
    "plt.plot(energy,f(2*x)[-1].detach().numpy())"
   ]
  },
  {
   "cell_type": "code",
   "execution_count": null,
   "id": "600c91d4-87ff-4ae8-bd96-9f1648b65f01",
   "metadata": {},
   "outputs": [],
   "source": []
  }
 ],
 "metadata": {
  "kernelspec": {
   "display_name": "Python 3 (ipykernel)",
   "language": "python",
   "name": "python3"
  },
  "language_info": {
   "codemirror_mode": {
    "name": "ipython",
    "version": 3
   },
   "file_extension": ".py",
   "mimetype": "text/x-python",
   "name": "python",
   "nbconvert_exporter": "python",
   "pygments_lexer": "ipython3",
   "version": "3.8.11"
  }
 },
 "nbformat": 4,
 "nbformat_minor": 5
}
