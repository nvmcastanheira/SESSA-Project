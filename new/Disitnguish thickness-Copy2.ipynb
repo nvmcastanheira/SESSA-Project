{
 "cells": [
  {
   "cell_type": "code",
   "execution_count": 1,
   "id": "78a4b316-5aad-4397-a8bd-7858e7da7ad7",
   "metadata": {},
   "outputs": [],
   "source": [
    "import torch\n",
    "import torch.nn as nn\n",
    "from torch.optim import SGD\n",
    "from numpy import *\n",
    "import matplotlib.pyplot as plt\n",
    "import math\n",
    "from tqdm import tqdm\n",
    "plt.style.use(['science','notebook','grid'])\n",
    "params = {'mathtext.default': 'regular' }          \n",
    "plt.rcParams.update(params)"
   ]
  },
  {
   "cell_type": "code",
   "execution_count": 2,
   "id": "8ca181d1-add8-4005-a753-7e8c42bc688e",
   "metadata": {},
   "outputs": [],
   "source": [
    "vals = load(r\"C:\\Users\\Nunocastanheira\\Desktop\\boooks\\research\\Gelb!\\Code\\SESSA-Project-main\\output\\Master.npy\")"
   ]
  },
  {
   "cell_type": "code",
   "execution_count": 3,
   "id": "fbc0fb68-60db-42ab-89fe-0e96ebab7f73",
   "metadata": {},
   "outputs": [
    {
     "name": "stdout",
     "output_type": "stream",
     "text": [
      "torch.Size([2048])\n",
      "torch.Size([24, 2048])\n",
      "torch.Size([24])\n",
      "tensor([ 500.0000,  500.4880,  500.9770,  ..., 1498.5400, 1499.0200,\n",
      "        1499.5100])\n",
      "tensor([[2.9532, 2.9536, 2.9540,  ..., 0.0036, 0.0036, 0.0036],\n",
      "        [2.9545, 2.9549, 2.9553,  ..., 0.0037, 0.0037, 0.0037],\n",
      "        [2.9357, 2.9361, 2.9365,  ..., 0.0038, 0.0038, 0.0038],\n",
      "        ...,\n",
      "        [2.9114, 2.9118, 2.9122,  ..., 0.0047, 0.0047, 0.0046],\n",
      "        [2.8748, 2.8752, 2.8755,  ..., 0.0047, 0.0047, 0.0047],\n",
      "        [2.9147, 2.9151, 2.9154,  ..., 0.0048, 0.0047, 0.0047]])\n"
     ]
    }
   ],
   "source": [
    "energy = torch.tensor(vals[0,0,:,0],dtype=torch.float)\n",
    "thickness = torch.tensor(range(1,25),dtype=torch.float)\n",
    "counts = torch.tensor(vals[0,:,:,1],dtype=torch.float)\n",
    "test = torch.tensor(vals[0,:,:,1],dtype=torch.float)*10**7\n",
    "print(shape(energy))\n",
    "print(shape(test))\n",
    "print(shape(thickness))\n",
    "print(energy)\n",
    "print(test)"
   ]
  },
  {
   "cell_type": "code",
   "execution_count": 4,
   "id": "da8abb19-c6ca-4f8b-940a-b55f25043bd9",
   "metadata": {
    "tags": []
   },
   "outputs": [
    {
     "name": "stderr",
     "output_type": "stream",
     "text": [
      "100%|██████████| 5000/5000 [48:13<00:00,  1.73it/s] \n"
     ]
    }
   ],
   "source": [
    "def train_model(x,y,f, n_epochs=500):\n",
    "    opt = SGD(f.parameters(), lr=10**-5)\n",
    "    L = nn.KLDivLoss(reduction = 'batchmean')\n",
    "\n",
    "    # Train model\n",
    "    losses = []\n",
    "    for _ in tqdm(range(n_epochs)):\n",
    "        opt.zero_grad() \n",
    "        loss_value = L(f(x), y)\n",
    "        loss_value.backward() \n",
    "        opt.step() \n",
    "        losses.append(loss_value.item())\n",
    "    return f, losses\n",
    "\n",
    "class MyNeuralNet(nn.Module):\n",
    "    def __init__(self):\n",
    "        super().__init__()\n",
    "        self.Matrix1 = nn.Linear(2048,2**13)\n",
    "        self.Matrix2 = nn.Linear(2**13,2**13)\n",
    "        self.Matrix3 = nn.Linear(2**13,1)\n",
    "        self.R = nn.ReLU()\n",
    "    def forward(self,x):\n",
    "        x = self.R(self.Matrix1(x))\n",
    "        x = self.R(self.Matrix2(x))\n",
    "        x = self.Matrix3(x)\n",
    "        return x.squeeze()\n",
    "\n",
    "x = test\n",
    "y = thickness\n",
    "f = MyNeuralNet()\n",
    "\n",
    "# Train model\n",
    "f, losses = train_model(x,y,f, n_epochs=5000)"
   ]
  },
  {
   "cell_type": "code",
   "execution_count": 5,
   "id": "8dc30c34-2301-4dde-840d-a3650db115a1",
   "metadata": {},
   "outputs": [
    {
     "data": {
      "text/plain": [
       "torch.Size([24])"
      ]
     },
     "execution_count": 5,
     "metadata": {},
     "output_type": "execute_result"
    }
   ],
   "source": [
    "shape(f(x))"
   ]
  },
  {
   "cell_type": "code",
   "execution_count": 6,
   "id": "e4461fae-8b5e-4d1e-aa2b-d6c3ef738252",
   "metadata": {},
   "outputs": [
    {
     "data": {
      "text/plain": [
       "tensor([nan, nan, nan, nan, nan, nan, nan, nan, nan, nan, nan, nan, nan, nan, nan, nan, nan, nan, nan, nan, nan, nan, nan, nan],\n",
       "       grad_fn=<SqueezeBackward0>)"
      ]
     },
     "execution_count": 6,
     "metadata": {},
     "output_type": "execute_result"
    }
   ],
   "source": [
    "f(x)"
   ]
  },
  {
   "cell_type": "code",
   "execution_count": 7,
   "id": "dee82fb3-1463-4e61-9afd-e30b32de0cc9",
   "metadata": {},
   "outputs": [
    {
     "data": {
      "text/plain": [
       "tensor([ 1.,  2.,  3.,  4.,  5.,  6.,  7.,  8.,  9., 10., 11., 12., 13., 14.,\n",
       "        15., 16., 17., 18., 19., 20., 21., 22., 23., 24.])"
      ]
     },
     "execution_count": 7,
     "metadata": {},
     "output_type": "execute_result"
    }
   ],
   "source": [
    "thickness"
   ]
  },
  {
   "cell_type": "code",
   "execution_count": null,
   "id": "2b9d5efc-9f5e-4251-9906-08c5088af99e",
   "metadata": {},
   "outputs": [],
   "source": [
    "plt.plot(losses[4900:])\n",
    "plt.xlabel(\"epoch\")\n",
    "plt.ylabel(\"Loss\")\n",
    "plt.show()"
   ]
  },
  {
   "cell_type": "code",
   "execution_count": null,
   "id": "980fe67f-9eee-42e0-8fe8-26f4ae223ff3",
   "metadata": {},
   "outputs": [],
   "source": []
  },
  {
   "cell_type": "code",
   "execution_count": null,
   "id": "3cfd956d-c094-4c33-b453-c4347ea74899",
   "metadata": {},
   "outputs": [],
   "source": []
  }
 ],
 "metadata": {
  "kernelspec": {
   "display_name": "Python 3 (ipykernel)",
   "language": "python",
   "name": "python3"
  },
  "language_info": {
   "codemirror_mode": {
    "name": "ipython",
    "version": 3
   },
   "file_extension": ".py",
   "mimetype": "text/x-python",
   "name": "python",
   "nbconvert_exporter": "python",
   "pygments_lexer": "ipython3",
   "version": "3.8.11"
  }
 },
 "nbformat": 4,
 "nbformat_minor": 5
}
